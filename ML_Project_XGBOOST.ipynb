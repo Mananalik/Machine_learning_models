{
 "cells": [
  {
   "cell_type": "code",
   "execution_count": null,
   "id": "38204607-b43d-4b8d-8e42-87559c19157b",
   "metadata": {},
   "outputs": [],
   "source": [
    "!pip install numpy pandas matplotlib seaborn --quiet"
   ]
  },
  {
   "cell_type": "code",
   "execution_count": null,
   "id": "3e3aaabd-f21d-4776-b68c-0220f8af008b",
   "metadata": {},
   "outputs": [],
   "source": [
    "!pip install jovian opendatasets xgboost graphviz lightgbm scikit-learn xgboost lightgbm --upgrade --quiet"
   ]
  },
  {
   "cell_type": "code",
   "execution_count": null,
   "id": "40a8696c-3791-4498-a23a-ad28e4fc8e3b",
   "metadata": {},
   "outputs": [],
   "source": [
    "import os\n",
    "import opendatasets as od\n",
    "import pandas as pd\n",
    "pd.set_option(\"display.max_columns\",120)\n",
    "pd.set_option(\"display.max_rows\",120)"
   ]
  },
  {
   "cell_type": "code",
   "execution_count": null,
   "id": "11031d22-8611-4153-a5a5-1620ea3140c9",
   "metadata": {},
   "outputs": [],
   "source": [
    "od.download('https://www.kaggle.com/c/rossmann-store-sales')"
   ]
  },
  {
   "cell_type": "code",
   "execution_count": null,
   "id": "a7149486-6f93-41b5-bc98-c87792a01126",
   "metadata": {},
   "outputs": [],
   "source": [
    "os.listdir('rossmann-store-sales')"
   ]
  },
  {
   "cell_type": "code",
   "execution_count": null,
   "id": "b6f63901-12e7-4faa-82f9-78df26a27fed",
   "metadata": {},
   "outputs": [],
   "source": [
    "ross_df = pd.read_csv('./rossmann-store-sales/train.csv',low_memory=False)\n",
    "test_df = pd.read_csv('./rossmann-store-sales/test.csv')\n",
    "store_df = pd.read_csv('./rossmann-store-sales/store.csv')"
   ]
  },
  {
   "cell_type": "code",
   "execution_count": null,
   "id": "3020c930-cc9b-4f3a-a0b7-37810bade2c6",
   "metadata": {},
   "outputs": [],
   "source": [
    "ross_df"
   ]
  },
  {
   "cell_type": "code",
   "execution_count": null,
   "id": "3579bdb5-f86c-4e42-bf38-6b39eea28270",
   "metadata": {},
   "outputs": [],
   "source": [
    "test_df"
   ]
  },
  {
   "cell_type": "code",
   "execution_count": null,
   "id": "ac36bbc4-7dde-436e-81f8-3bed306d486a",
   "metadata": {},
   "outputs": [],
   "source": [
    "store_df"
   ]
  },
  {
   "cell_type": "code",
   "execution_count": null,
   "id": "a52f6ff3-2073-4925-b5e0-7f8292bde6e5",
   "metadata": {},
   "outputs": [],
   "source": [
    "merged_df = ross_df.merge(store_df,how='left',on='Store')\n",
    "merged_test_df = test_df.merge(store_df,how='left',on='Store')"
   ]
  },
  {
   "cell_type": "code",
   "execution_count": null,
   "id": "acd1b64d-52a3-487a-9a67-d2a8a798ef2b",
   "metadata": {},
   "outputs": [],
   "source": [
    "merged_df"
   ]
  },
  {
   "cell_type": "code",
   "execution_count": null,
   "id": "2d1efa38-73a7-4600-8819-4dee10c97696",
   "metadata": {},
   "outputs": [],
   "source": [
    "merged_test_df"
   ]
  },
  {
   "cell_type": "code",
   "execution_count": null,
   "id": "4adcbfc2-07d4-4f7b-ad0a-1889895f0892",
   "metadata": {},
   "outputs": [],
   "source": [
    "merged_df.info()"
   ]
  },
  {
   "cell_type": "code",
   "execution_count": null,
   "id": "c4dd8da6-9bc3-4564-afa2-373aee84aad7",
   "metadata": {},
   "outputs": [],
   "source": [
    "def split_date(df):\n",
    "    df['Date']=pd.to_datetime(df['Date'])\n",
    "    df['Year'] = df.Date.dt.year\n",
    "    df['Month'] = df.Date.dt.month\n",
    "    df['Day'] = df.Date.dt.day\n",
    "    df['WeekOfYear'] = df.Date.dt.isocalendar().week"
   ]
  },
  {
   "cell_type": "code",
   "execution_count": null,
   "id": "0878effe-1fa2-494d-a605-edd7d41eab64",
   "metadata": {},
   "outputs": [],
   "source": [
    "split_date(merged_df)\n",
    "split_date(merged_test_df)"
   ]
  },
  {
   "cell_type": "code",
   "execution_count": null,
   "id": "5fb6e597-e9c1-47df-892b-cb835775c126",
   "metadata": {},
   "outputs": [],
   "source": [
    "merged_df"
   ]
  },
  {
   "cell_type": "code",
   "execution_count": null,
   "id": "d4f145d0-25c1-4f1e-88e8-509e7914657d",
   "metadata": {},
   "outputs": [],
   "source": [
    "merged_df[merged_df.Open==0].Sales.value_counts()"
   ]
  },
  {
   "cell_type": "code",
   "execution_count": null,
   "id": "931331a6-7c0c-4935-9e96-6a384b382f2a",
   "metadata": {},
   "outputs": [],
   "source": [
    "def comp_months(df):\n",
    "    df['CompetitionOpen']=12*(df.Year-df.CompetitionOpenSinceYear)+(df.Month-df.CompetitionOpenSinceMonth)\n",
    "    df['CompetitionOpen']=df['CompetitionOpen'].map(lambda x: 0 if x<0 else x).fillna(0)"
   ]
  },
  {
   "cell_type": "code",
   "execution_count": null,
   "id": "36ada5cf-f7be-4ba7-8ca8-73f6e842867b",
   "metadata": {},
   "outputs": [],
   "source": [
    "comp_months(merged_df)\n",
    "comp_months(merged_test_df)"
   ]
  },
  {
   "cell_type": "code",
   "execution_count": null,
   "id": "26c26e8e-9bc1-4d3d-b3a6-20be140d305f",
   "metadata": {},
   "outputs": [],
   "source": [
    "merged_df"
   ]
  },
  {
   "cell_type": "code",
   "execution_count": null,
   "id": "5197044d-fa33-44ee-b2dd-4c6f91221870",
   "metadata": {},
   "outputs": [],
   "source": [
    "merged_df[['Date','CompetitionDistance','CompetitionOpenSinceYear','CompetitionOpenSinceMonth','CompetitionOpen']].sample(20)"
   ]
  },
  {
   "cell_type": "code",
   "execution_count": null,
   "id": "a20fd758-c4a7-43d0-bc63-e5c14edc8ab5",
   "metadata": {},
   "outputs": [],
   "source": [
    "def check_promo_month(df):\n",
    "    month2str = {1:'Jan', 2:'Feb' ,3:'March', 4:'Apr', 5:'May', 6:'Jun',\n",
    "                 7:'Jul', 8:'Aug', 9:'Sept', 10:'Oct', 11:'Nov', 12:'Dec'}\n",
    "    try:\n",
    "        months = (row['PromoInterval'] or '').split(',')\n",
    "        if(row['Promo2Open'] and month2str[row['Month']]) in months:\n",
    "            return 1\n",
    "        else:\n",
    "            return 0\n",
    "    except Exception:\n",
    "        return 0\n",
    "def promo_cols(df):\n",
    "    df['Promo2Open'] = 12*(df.Year - df.Promo2SinceYear) + (df.WeekOfYear - df.Promo2SinceWeek)*7/30.5\n",
    "    df['Promo2Open'] = df['Promo2Open'].map(lambda x: 0 if x<0 else x).fillna(0)\n",
    "    df['IsPromo2Month'] = df.apply(check_promo_month,axis=1)*df['Promo2']"
   ]
  },
  {
   "cell_type": "code",
   "execution_count": null,
   "id": "ea1e7821-f7f3-4d04-943f-fa23564080b1",
   "metadata": {},
   "outputs": [],
   "source": [
    "promo_cols(merged_df)\n",
    "promo_cols(merged_test_df)"
   ]
  },
  {
   "cell_type": "code",
   "execution_count": null,
   "id": "a3a1c66b-2561-4939-87f0-d421b4fe788a",
   "metadata": {},
   "outputs": [],
   "source": [
    "merged_df[['Date', 'Promo2', 'Promo2SinceYear', 'Promo2SinceWeek', 'PromoInterval', 'Promo2Open', 'IsPromo2Month']].sample(20)"
   ]
  },
  {
   "cell_type": "code",
   "execution_count": null,
   "id": "82e67af5-59c9-4587-b1ad-d98bb5bd9531",
   "metadata": {},
   "outputs": [],
   "source": [
    "merged_df.columns"
   ]
  },
  {
   "cell_type": "code",
   "execution_count": null,
   "id": "fcc0d636-dbf8-483c-b28b-e46c4d6cc03c",
   "metadata": {},
   "outputs": [],
   "source": [
    "input_cols = ['Store', 'DayOfWeek', 'Promo', 'StateHoliday', 'SchoolHoliday', \n",
    "              'StoreType', 'Assortment', 'CompetitionDistance', 'CompetitionOpen', \n",
    "              'Day', 'Month', 'Year', 'WeekOfYear',  'Promo2', \n",
    "              'Promo2Open', 'IsPromo2Month']\n",
    "target_col = 'Sales'"
   ]
  },
  {
   "cell_type": "code",
   "execution_count": null,
   "id": "e081d041-7a25-424d-a9b7-f9456768fc17",
   "metadata": {},
   "outputs": [],
   "source": [
    "inputs = merged_df[input_cols].copy()\n",
    "targets = merged_df[target_col].copy()"
   ]
  },
  {
   "cell_type": "code",
   "execution_count": null,
   "id": "84f266e8-c742-43b0-ad87-f7f771519c65",
   "metadata": {},
   "outputs": [],
   "source": [
    "test_inputs = merged_test_df[input_cols].copy()"
   ]
  },
  {
   "cell_type": "code",
   "execution_count": null,
   "id": "f1a7b740-ba64-4927-a46b-2a8f079ad31d",
   "metadata": {},
   "outputs": [],
   "source": [
    "numeric_cols = ['Store', 'Promo', 'SchoolHoliday', \n",
    "              'CompetitionDistance', 'CompetitionOpen', 'Promo2', 'Promo2Open', 'IsPromo2Month',\n",
    "              'Day', 'Month', 'Year', 'WeekOfYear',  ]\n",
    "categorical_cols = ['DayOfWeek', 'StateHoliday', 'StoreType', 'Assortment']"
   ]
  },
  {
   "cell_type": "code",
   "execution_count": null,
   "id": "428456e9-b6fa-42c3-99d2-eed52f25dca9",
   "metadata": {},
   "outputs": [],
   "source": [
    "inputs[numeric_cols].isna().sum()"
   ]
  },
  {
   "cell_type": "code",
   "execution_count": null,
   "id": "02dd0334-d9d3-4ed1-bee1-0e164b5a1eef",
   "metadata": {},
   "outputs": [],
   "source": [
    "test_inputs[numeric_cols].isna().sum()"
   ]
  },
  {
   "cell_type": "code",
   "execution_count": null,
   "id": "7af6f7e8-cec0-45fa-b16e-2cc90c637a1b",
   "metadata": {},
   "outputs": [],
   "source": [
    "max_distance = inputs.CompetitionDistance.max()"
   ]
  },
  {
   "cell_type": "code",
   "execution_count": null,
   "id": "a8cb6d51-9348-4c64-90e6-5f765c21c299",
   "metadata": {},
   "outputs": [],
   "source": [
    "inputs['CompetitionDistance']=inputs['CompetitionDistance'].fillna(max_distance).infer_objects(copy=False)\n",
    "test_inputs['CompetitionDistance']=test_inputs['CompetitionDistance'].fillna(max_distance)"
   ]
  },
  {
   "cell_type": "code",
   "execution_count": null,
   "id": "a9715d4b-b8f6-453b-8617-bf7f31480af3",
   "metadata": {},
   "outputs": [],
   "source": [
    "from sklearn.preprocessing import MinMaxScaler"
   ]
  },
  {
   "cell_type": "code",
   "execution_count": null,
   "id": "2f5e81b8-2979-452f-a4ff-742fa6ad418a",
   "metadata": {},
   "outputs": [],
   "source": [
    "scaler = MinMaxScaler().fit(inputs[numeric_cols])"
   ]
  },
  {
   "cell_type": "code",
   "execution_count": null,
   "id": "f104c219-cb48-493d-92ee-0b04f370f626",
   "metadata": {},
   "outputs": [],
   "source": [
    "inputs[numeric_cols] = scaler.transform(inputs[numeric_cols])\n",
    "test_inputs[numeric_cols] = scaler.transform(test_inputs[numeric_cols])"
   ]
  },
  {
   "cell_type": "code",
   "execution_count": null,
   "id": "09592abd-6200-4ec7-99f2-ee3423170ca8",
   "metadata": {},
   "outputs": [],
   "source": [
    "from sklearn.preprocessing import OneHotEncoder"
   ]
  },
  {
   "cell_type": "code",
   "execution_count": null,
   "id": "4f2fed1c-4cf1-4a11-9b9e-55c7f281cc7e",
   "metadata": {},
   "outputs": [],
   "source": [
    "encoder = OneHotEncoder(sparse_output=False,handle_unknown='ignore').fit(inputs[categorical_cols])\n",
    "encoded_cols = list(encoder.get_feature_names_out(categorical_cols))"
   ]
  },
  {
   "cell_type": "code",
   "execution_count": null,
   "id": "7a9fd593-e01d-4b3e-827b-c2ba1f032a46",
   "metadata": {},
   "outputs": [],
   "source": [
    "inputs[encoded_cols] = encoder.transform(inputs[categorical_cols])\n",
    "test_inputs[encoded_cols] = encoder.transform(test_inputs[categorical_cols])"
   ]
  },
  {
   "cell_type": "code",
   "execution_count": null,
   "id": "4ae25395-0829-43cc-bc8f-6909f10517ce",
   "metadata": {},
   "outputs": [],
   "source": [
    "X = inputs[numeric_cols+encoded_cols]\n",
    "X_test = test_inputs[numeric_cols+encoded_cols]"
   ]
  },
  {
   "cell_type": "code",
   "execution_count": null,
   "id": "1c9cd2a1-1adb-4457-b3d0-884fee1cd164",
   "metadata": {},
   "outputs": [],
   "source": [
    "X_test.info()"
   ]
  },
  {
   "cell_type": "code",
   "execution_count": null,
   "id": "22c9db0a-eb43-4d0b-81c3-bc698ff137bd",
   "metadata": {},
   "outputs": [],
   "source": [
    "from xgboost import XGBRegressor"
   ]
  },
  {
   "cell_type": "code",
   "execution_count": null,
   "id": "64f460ff-eec2-4950-b559-8dde11b8d1bd",
   "metadata": {},
   "outputs": [],
   "source": [
    "model = XGBRegressor(random_state=42,n_jobs=-1,n_estimators=20,max_depth=4)"
   ]
  },
  {
   "cell_type": "code",
   "execution_count": null,
   "id": "59958a73-dd62-41c7-ac2c-ece9ddb2b151",
   "metadata": {},
   "outputs": [],
   "source": [
    "%%time\n",
    "model.fit(X,targets)"
   ]
  },
  {
   "cell_type": "code",
   "execution_count": null,
   "id": "c09113ed-7afa-4a7c-b4ad-76c16f26d4e6",
   "metadata": {},
   "outputs": [],
   "source": [
    "preds = model.predict(X)"
   ]
  },
  {
   "cell_type": "code",
   "execution_count": null,
   "id": "a0248373-6e3b-47bd-b084-1e8cfd08f019",
   "metadata": {},
   "outputs": [],
   "source": [
    "preds"
   ]
  },
  {
   "cell_type": "code",
   "execution_count": null,
   "id": "5efeaa45-8b18-4d25-981b-75c97811400b",
   "metadata": {},
   "outputs": [],
   "source": [
    "import numpy as np"
   ]
  },
  {
   "cell_type": "code",
   "execution_count": null,
   "id": "57dc24d9-3a25-40db-8ebe-07694524bb94",
   "metadata": {},
   "outputs": [],
   "source": [
    "from sklearn.metrics import mean_squared_error\n",
    "def rmse(a,b):\n",
    "    mse = mean_squared_error(a,b)\n",
    "    return np.sqrt(mse)"
   ]
  },
  {
   "cell_type": "code",
   "execution_count": null,
   "id": "7fe0df7b-f209-4212-a8da-1b7bdd18df34",
   "metadata": {},
   "outputs": [],
   "source": [
    "rmse(preds,targets)"
   ]
  },
  {
   "cell_type": "code",
   "execution_count": null,
   "id": "aa096036-801b-4a61-a28c-d095fa711e56",
   "metadata": {},
   "outputs": [],
   "source": [
    "import matplotlib.pyplot as plt\n",
    "from xgboost import plot_tree\n",
    "from matplotlib.pylab import rcParams\n",
    "%matplotlib inline\n",
    "rcParams['figure.figsize'] = 30,38"
   ]
  },
  {
   "cell_type": "code",
   "execution_count": null,
   "id": "db840e38-697e-495d-a077-eb55db2b324f",
   "metadata": {},
   "outputs": [],
   "source": [
    "plot_tree(model, rankdir='LR')"
   ]
  },
  {
   "cell_type": "code",
   "execution_count": null,
   "id": "4b016501-946e-41f2-a0dc-4a57d5d62f07",
   "metadata": {},
   "outputs": [],
   "source": [
    "trees = model.get_booster().get_dump()"
   ]
  },
  {
   "cell_type": "code",
   "execution_count": null,
   "id": "6ee388bc-64e9-470d-88d5-cf5202ab4cdc",
   "metadata": {},
   "outputs": [],
   "source": [
    "len(trees)"
   ]
  },
  {
   "cell_type": "code",
   "execution_count": null,
   "id": "7362c221-d3aa-42bf-ab28-4ed04de60343",
   "metadata": {},
   "outputs": [],
   "source": [
    "print(trees[0])"
   ]
  },
  {
   "cell_type": "code",
   "execution_count": null,
   "id": "a646cd20-a13b-4a7a-b3e5-1b2f166f228c",
   "metadata": {},
   "outputs": [],
   "source": [
    "importance_df = pd.DataFrame({\n",
    "    'feature': X.columns,\n",
    "    'importance': model.feature_importances_\n",
    "}).sort_values('importance',ascending=False)"
   ]
  },
  {
   "cell_type": "code",
   "execution_count": null,
   "id": "a3fd35f9-711e-400c-93c4-056e558c5d4a",
   "metadata": {},
   "outputs": [],
   "source": [
    "importance_df.head(10)"
   ]
  },
  {
   "cell_type": "code",
   "execution_count": null,
   "id": "f33c1bb1-6d1f-479b-8f1c-0566c000ee93",
   "metadata": {},
   "outputs": [],
   "source": [
    "import seaborn as sns\n",
    "plt.figure(figsize=(10,6))\n",
    "plt.title('Feature Importance')\n",
    "sns.barplot(data=importance_df.head(10),x='importance',y='feature')\n",
    "plt.show()"
   ]
  },
  {
   "cell_type": "code",
   "execution_count": null,
   "id": "f43c6136-c525-45cc-bec9-8b2538eb643f",
   "metadata": {},
   "outputs": [],
   "source": [
    "from sklearn.model_selection import KFold"
   ]
  },
  {
   "cell_type": "code",
   "execution_count": null,
   "id": "748769fa-e796-470f-9e7f-7b2691f3a4b5",
   "metadata": {},
   "outputs": [],
   "source": [
    "def train_and_evaluate(X_train,train_targets,X_val,val_targets,**params):\n",
    "    model = XGBRegressor(random_state=42,n_jobs=-1,**params)\n",
    "    model.fit(X_train,train_targets)\n",
    "    train_rmse = rmse(model.predict(X_train),train_targets)\n",
    "    val_rmse = rmse(model.predict(X_val),val_targets)\n",
    "    return model,train_rmse,val_rmse"
   ]
  },
  {
   "cell_type": "code",
   "execution_count": null,
   "id": "2f915df8-e1ac-4c3d-b01f-b5bd52028017",
   "metadata": {},
   "outputs": [],
   "source": [
    "kfold = KFold(n_splits=5)"
   ]
  },
  {
   "cell_type": "code",
   "execution_count": null,
   "id": "e8114eea-54c8-4777-af4d-6a86188188b1",
   "metadata": {},
   "outputs": [],
   "source": [
    "models=[]\n",
    "for train_idxs,val_idxs in kfold.split(X):\n",
    "    X_train,train_targets=X.iloc[train_idxs],targets.iloc[train_idxs]\n",
    "    X_val,val_targets = X.iloc[val_idxs],targets.iloc[val_idxs]\n",
    "    model, train_rmse , val_rmse = train_and_evaluate(X_train,\n",
    "                                                     train_targets,\n",
    "                                                     X_val,\n",
    "                                                     val_targets,\n",
    "                                                     max_depth=4,\n",
    "                                                     n_estimators=20)\n",
    "    models.append(model)\n",
    "    print('Train RMSE: {}, Validation RMSE: {}'.format(train_rmse,val_rmse))"
   ]
  },
  {
   "cell_type": "code",
   "execution_count": null,
   "id": "21a364aa-2d43-4cbc-95b7-d440c251d365",
   "metadata": {},
   "outputs": [],
   "source": [
    "import numpy as np\n",
    "def predict_avg(models,inputs):\n",
    "    return np.mean([model.predict(inputs) for model in models], axis=0)"
   ]
  },
  {
   "cell_type": "code",
   "execution_count": null,
   "id": "20204171-9abf-43f8-959a-3b23ceefc1fc",
   "metadata": {},
   "outputs": [],
   "source": [
    "preds = predict_avg(models,X)"
   ]
  },
  {
   "cell_type": "code",
   "execution_count": null,
   "id": "e1f39d2f-501c-46d7-882c-8cb18b29eae6",
   "metadata": {},
   "outputs": [],
   "source": [
    "preds"
   ]
  },
  {
   "cell_type": "code",
   "execution_count": null,
   "id": "c8009fba-29f6-4e8e-a1fa-17d78ef64782",
   "metadata": {},
   "outputs": [],
   "source": [
    "def test_params_kfold(n_splits,**params):\n",
    "    train_rmses,val_rmses,models = [],[],[]\n",
    "    kfold = KFold(n_splits)\n",
    "    for train_idxs, val_idxs in kfold.split(X):\n",
    "        X_train,train_targets = X.iloc[train_idxs],targets.iloc[train_idxs]\n",
    "        X_val,val_targets = X.iloc[val_idxs], targets.iloc[val_idxs]\n",
    "        model, train_rmse, val_rmse = train_and_evaluate(X_train,train_targets,X_val,val_targets,**params)\n",
    "        models.append(model)\n",
    "        train_rmses.append(train_rmse)\n",
    "        val_rmses.append(val_rmse)\n",
    "        print('Train RMSE: {}, Validation RMSE: {}'.format(np.mean(train_rmses),np.mean(val_rmses)))\n",
    "        return models"
   ]
  },
  {
   "cell_type": "code",
   "execution_count": null,
   "id": "643bbd1e-cb86-45be-a8da-8cad5ed237f6",
   "metadata": {},
   "outputs": [],
   "source": [
    "from sklearn.model_selection import train_test_split"
   ]
  },
  {
   "cell_type": "code",
   "execution_count": null,
   "id": "cfc1e2ae-2c82-4bb7-8fd3-85ea29d7373f",
   "metadata": {},
   "outputs": [],
   "source": [
    "def test_params(**params):\n",
    "    model = XGBRegressor(n_jobs=-1,random_state=42,**params)\n",
    "    model.fit(X_train,train_targets)\n",
    "    train_rmse = rmse(model.predict(X_train),train_targets)\n",
    "    val_rmse = rmse(model.predict(X_val),val_targets)\n",
    "    print('Train RMSE: {}, Validation RMSE {}'.format(train_rmse,val_rmse))"
   ]
  },
  {
   "cell_type": "code",
   "execution_count": null,
   "id": "94a3cd99-7f47-4a6f-b868-58b32a345b20",
   "metadata": {},
   "outputs": [],
   "source": [
    "test_params(n_estimators=10)"
   ]
  },
  {
   "cell_type": "code",
   "execution_count": null,
   "id": "32a1c411-ed38-47f7-8e25-2d98891941d8",
   "metadata": {},
   "outputs": [],
   "source": [
    "test_params(n_estimators=30)"
   ]
  },
  {
   "cell_type": "code",
   "execution_count": null,
   "id": "d371a4a6-2e92-4d54-b7ec-dfa86f5c00c3",
   "metadata": {},
   "outputs": [],
   "source": [
    "test_params(n_estimators=100)"
   ]
  },
  {
   "cell_type": "code",
   "execution_count": null,
   "id": "d1fddb97-4cb8-480d-99d4-12815e797d15",
   "metadata": {},
   "outputs": [],
   "source": [
    "test_params(n_estimators=240)"
   ]
  },
  {
   "cell_type": "code",
   "execution_count": null,
   "id": "115a3963-2530-4c2c-beec-c99dfd5f2a46",
   "metadata": {},
   "outputs": [],
   "source": [
    "test_params(max_depth=2)"
   ]
  },
  {
   "cell_type": "code",
   "execution_count": null,
   "id": "47e6e673-a6de-40c2-a02c-9eea13cf51e5",
   "metadata": {},
   "outputs": [],
   "source": [
    "test_params(max_depth=5)"
   ]
  },
  {
   "cell_type": "code",
   "execution_count": null,
   "id": "3e2dd4e3-4cdf-4b7b-913f-7dc64068eef4",
   "metadata": {},
   "outputs": [],
   "source": [
    "test_params(max_depth=10)"
   ]
  },
  {
   "cell_type": "code",
   "execution_count": null,
   "id": "0f05c9b1-0dfc-4797-ab81-f5a046cf8db3",
   "metadata": {},
   "outputs": [],
   "source": [
    "test_params(n_estimators=50, learning_rate=0.01)"
   ]
  },
  {
   "cell_type": "code",
   "execution_count": null,
   "id": "6fa46bd5-2c3c-4e92-9dec-fceddc1dda61",
   "metadata": {},
   "outputs": [],
   "source": [
    "test_params(n_estimators=50, learning_rate=0.1)"
   ]
  },
  {
   "cell_type": "code",
   "execution_count": null,
   "id": "63398a87-c299-4a29-a3ff-02aa0977de2f",
   "metadata": {},
   "outputs": [],
   "source": [
    "test_params(n_estimators=50, learning_rate=0.3)"
   ]
  },
  {
   "cell_type": "code",
   "execution_count": null,
   "id": "e29fdbf9-612b-4538-8163-af5db77b2907",
   "metadata": {},
   "outputs": [],
   "source": [
    "test_params(n_estimators=50, learning_rate=0.9)"
   ]
  },
  {
   "cell_type": "code",
   "execution_count": null,
   "id": "b119fc2b-1e93-4af7-952a-5ecfabbb64e2",
   "metadata": {},
   "outputs": [],
   "source": [
    "test_params(n_estimators=50, learning_rate=0.99)"
   ]
  },
  {
   "cell_type": "code",
   "execution_count": null,
   "id": "e7347ddd-e1bd-4a3d-ba37-f2f9ff283cb7",
   "metadata": {},
   "outputs": [],
   "source": [
    "test_params(booster='gblinear')"
   ]
  },
  {
   "cell_type": "code",
   "execution_count": null,
   "id": "9928e3f3-d491-4755-96b7-aa908ad10929",
   "metadata": {},
   "outputs": [],
   "source": [
    "model = XGBRegressor(n_jobs=-1, random_state=42, n_estimators=1000, \n",
    "                     learning_rate=0.2, max_depth=10, subsample=0.9, \n",
    "                     colsample_bytree=0.7)"
   ]
  },
  {
   "cell_type": "code",
   "execution_count": null,
   "id": "ca3797af-618e-4285-9211-5a0050378480",
   "metadata": {},
   "outputs": [],
   "source": [
    "%%time\n",
    "model.fit(X,targets)"
   ]
  },
  {
   "cell_type": "code",
   "execution_count": null,
   "id": "fce295af-da80-4aef-886e-ae93cd52b88f",
   "metadata": {},
   "outputs": [],
   "source": [
    "test_preds = model.predict(X_test)"
   ]
  },
  {
   "cell_type": "code",
   "execution_count": null,
   "id": "d1e893c2-1978-44fa-b8c2-342e3607fb06",
   "metadata": {},
   "outputs": [],
   "source": [
    "submission_df = pd.read_csv('./rossmann-store-sales/store.csv')"
   ]
  },
  {
   "cell_type": "code",
   "execution_count": null,
   "id": "5588103d-588f-4f45-952f-45585fcdf107",
   "metadata": {},
   "outputs": [],
   "source": [
    "submission_df['Sales'] = test_preds"
   ]
  },
  {
   "cell_type": "code",
   "execution_count": null,
   "id": "4131125e-f049-4c20-9314-3ba2ab5c74b2",
   "metadata": {},
   "outputs": [],
   "source": [
    "test_df.Open.isna().sum()"
   ]
  },
  {
   "cell_type": "code",
   "execution_count": null,
   "id": "75e23393-64e9-40df-9761-818d743153c0",
   "metadata": {},
   "outputs": [],
   "source": [
    "submission_df['Sales'] = submission_df['Sales'] * test_df.Open.fillna(1.)"
   ]
  },
  {
   "cell_type": "code",
   "execution_count": null,
   "id": "c2c0b0e9-b20b-472f-98e8-260bfc6154c3",
   "metadata": {},
   "outputs": [],
   "source": [
    "submission_df"
   ]
  },
  {
   "cell_type": "code",
   "execution_count": null,
   "id": "4477168f-945b-4aaa-b219-46df5af38e73",
   "metadata": {},
   "outputs": [],
   "source": [
    "submission_df.to_csv('submission.csv', index=None)"
   ]
  },
  {
   "cell_type": "code",
   "execution_count": null,
   "id": "bc7381aa-8fb8-47a9-b946-bb99aacb5e31",
   "metadata": {},
   "outputs": [],
   "source": [
    "from IPython.display import FileLink"
   ]
  },
  {
   "cell_type": "code",
   "execution_count": null,
   "id": "61e8a1b9-33b0-40cb-8707-269893a7a3a0",
   "metadata": {},
   "outputs": [],
   "source": [
    "FileLink('submission.csv')"
   ]
  }
 ],
 "metadata": {
  "kernelspec": {
   "display_name": "Python [conda env:base] *",
   "language": "python",
   "name": "conda-base-py"
  },
  "language_info": {
   "codemirror_mode": {
    "name": "ipython",
    "version": 3
   },
   "file_extension": ".py",
   "mimetype": "text/x-python",
   "name": "python",
   "nbconvert_exporter": "python",
   "pygments_lexer": "ipython3",
   "version": "3.12.7"
  }
 },
 "nbformat": 4,
 "nbformat_minor": 5
}
